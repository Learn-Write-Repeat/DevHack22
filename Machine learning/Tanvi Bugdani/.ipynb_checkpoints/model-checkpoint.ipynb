{
 "cells": [
  {
   "cell_type": "markdown",
   "id": "81f3155b",
   "metadata": {},
   "source": [
    "# Importing the required packages "
   ]
  },
  {
   "cell_type": "code",
   "execution_count": 1,
   "id": "72adb61c",
   "metadata": {},
   "outputs": [],
   "source": [
    "# for working with the data\n",
    "import numpy as np\n",
    "import pandas as pd\n",
    "\n",
    "# for visualization purposes\n",
    "import matplotlib.pyplot as plt \n",
    "import seaborn as sns\n",
    "\n",
    "# for building the models\n",
    "from sklearn.model_selection import train_test_split\n",
    "from sklearn.ensemble import RandomForestClassifier\n",
    "from sklearn.tree import DecisionTreeClassifier\n",
    "from sklearn.neighbors import KNeighborsClassifier\n",
    "\n",
    "# for evaluation purposes\n",
    "from sklearn.metrics import accuracy_score, confusion_matrix\n",
    "\n",
    "%matplotlib inline"
   ]
  },
  {
   "cell_type": "code",
   "execution_count": 2,
   "id": "f8dccc8c",
   "metadata": {},
   "outputs": [],
   "source": [
    "import warnings\n",
    "warnings.simplefilter('ignore')"
   ]
  },
  {
   "cell_type": "markdown",
   "id": "cc7bdadc",
   "metadata": {},
   "source": [
    "# Loading the dataset "
   ]
  },
  {
   "cell_type": "code",
   "execution_count": 3,
   "id": "dc664765",
   "metadata": {},
   "outputs": [],
   "source": [
    "data = pd.read_csv('./data/glass.csv')"
   ]
  },
  {
   "cell_type": "markdown",
   "id": "e2b35d0b",
   "metadata": {},
   "source": [
    "# Data Cleaning and Exploration"
   ]
  },
  {
   "cell_type": "code",
   "execution_count": 4,
   "id": "9bb9c8cc",
   "metadata": {},
   "outputs": [
    {
     "data": {
      "text/html": [
       "<div>\n",
       "<style scoped>\n",
       "    .dataframe tbody tr th:only-of-type {\n",
       "        vertical-align: middle;\n",
       "    }\n",
       "\n",
       "    .dataframe tbody tr th {\n",
       "        vertical-align: top;\n",
       "    }\n",
       "\n",
       "    .dataframe thead th {\n",
       "        text-align: right;\n",
       "    }\n",
       "</style>\n",
       "<table border=\"1\" class=\"dataframe\">\n",
       "  <thead>\n",
       "    <tr style=\"text-align: right;\">\n",
       "      <th></th>\n",
       "      <th>RI</th>\n",
       "      <th>Na</th>\n",
       "      <th>Mg</th>\n",
       "      <th>Al</th>\n",
       "      <th>Si</th>\n",
       "      <th>K</th>\n",
       "      <th>Ca</th>\n",
       "      <th>Ba</th>\n",
       "      <th>Fe</th>\n",
       "      <th>Type</th>\n",
       "    </tr>\n",
       "  </thead>\n",
       "  <tbody>\n",
       "    <tr>\n",
       "      <th>0</th>\n",
       "      <td>1.52101</td>\n",
       "      <td>13.64</td>\n",
       "      <td>4.49</td>\n",
       "      <td>1.10</td>\n",
       "      <td>71.78</td>\n",
       "      <td>0.06</td>\n",
       "      <td>8.75</td>\n",
       "      <td>0.0</td>\n",
       "      <td>0.0</td>\n",
       "      <td>1</td>\n",
       "    </tr>\n",
       "    <tr>\n",
       "      <th>1</th>\n",
       "      <td>1.51761</td>\n",
       "      <td>13.89</td>\n",
       "      <td>3.60</td>\n",
       "      <td>1.36</td>\n",
       "      <td>72.73</td>\n",
       "      <td>0.48</td>\n",
       "      <td>7.83</td>\n",
       "      <td>0.0</td>\n",
       "      <td>0.0</td>\n",
       "      <td>1</td>\n",
       "    </tr>\n",
       "    <tr>\n",
       "      <th>2</th>\n",
       "      <td>1.51618</td>\n",
       "      <td>13.53</td>\n",
       "      <td>3.55</td>\n",
       "      <td>1.54</td>\n",
       "      <td>72.99</td>\n",
       "      <td>0.39</td>\n",
       "      <td>7.78</td>\n",
       "      <td>0.0</td>\n",
       "      <td>0.0</td>\n",
       "      <td>1</td>\n",
       "    </tr>\n",
       "    <tr>\n",
       "      <th>3</th>\n",
       "      <td>1.51766</td>\n",
       "      <td>13.21</td>\n",
       "      <td>3.69</td>\n",
       "      <td>1.29</td>\n",
       "      <td>72.61</td>\n",
       "      <td>0.57</td>\n",
       "      <td>8.22</td>\n",
       "      <td>0.0</td>\n",
       "      <td>0.0</td>\n",
       "      <td>1</td>\n",
       "    </tr>\n",
       "    <tr>\n",
       "      <th>4</th>\n",
       "      <td>1.51742</td>\n",
       "      <td>13.27</td>\n",
       "      <td>3.62</td>\n",
       "      <td>1.24</td>\n",
       "      <td>73.08</td>\n",
       "      <td>0.55</td>\n",
       "      <td>8.07</td>\n",
       "      <td>0.0</td>\n",
       "      <td>0.0</td>\n",
       "      <td>1</td>\n",
       "    </tr>\n",
       "  </tbody>\n",
       "</table>\n",
       "</div>"
      ],
      "text/plain": [
       "        RI     Na    Mg    Al     Si     K    Ca   Ba   Fe  Type\n",
       "0  1.52101  13.64  4.49  1.10  71.78  0.06  8.75  0.0  0.0     1\n",
       "1  1.51761  13.89  3.60  1.36  72.73  0.48  7.83  0.0  0.0     1\n",
       "2  1.51618  13.53  3.55  1.54  72.99  0.39  7.78  0.0  0.0     1\n",
       "3  1.51766  13.21  3.69  1.29  72.61  0.57  8.22  0.0  0.0     1\n",
       "4  1.51742  13.27  3.62  1.24  73.08  0.55  8.07  0.0  0.0     1"
      ]
     },
     "execution_count": 4,
     "metadata": {},
     "output_type": "execute_result"
    }
   ],
   "source": [
    "data.head()"
   ]
  },
  {
   "cell_type": "code",
   "execution_count": 5,
   "id": "5e527f3b",
   "metadata": {},
   "outputs": [
    {
     "data": {
      "text/html": [
       "<div>\n",
       "<style scoped>\n",
       "    .dataframe tbody tr th:only-of-type {\n",
       "        vertical-align: middle;\n",
       "    }\n",
       "\n",
       "    .dataframe tbody tr th {\n",
       "        vertical-align: top;\n",
       "    }\n",
       "\n",
       "    .dataframe thead th {\n",
       "        text-align: right;\n",
       "    }\n",
       "</style>\n",
       "<table border=\"1\" class=\"dataframe\">\n",
       "  <thead>\n",
       "    <tr style=\"text-align: right;\">\n",
       "      <th></th>\n",
       "      <th>RI</th>\n",
       "      <th>Na</th>\n",
       "      <th>Mg</th>\n",
       "      <th>Al</th>\n",
       "      <th>Si</th>\n",
       "      <th>K</th>\n",
       "      <th>Ca</th>\n",
       "      <th>Ba</th>\n",
       "      <th>Fe</th>\n",
       "      <th>Type</th>\n",
       "    </tr>\n",
       "  </thead>\n",
       "  <tbody>\n",
       "    <tr>\n",
       "      <th>209</th>\n",
       "      <td>1.51623</td>\n",
       "      <td>14.14</td>\n",
       "      <td>0.0</td>\n",
       "      <td>2.88</td>\n",
       "      <td>72.61</td>\n",
       "      <td>0.08</td>\n",
       "      <td>9.18</td>\n",
       "      <td>1.06</td>\n",
       "      <td>0.0</td>\n",
       "      <td>7</td>\n",
       "    </tr>\n",
       "    <tr>\n",
       "      <th>210</th>\n",
       "      <td>1.51685</td>\n",
       "      <td>14.92</td>\n",
       "      <td>0.0</td>\n",
       "      <td>1.99</td>\n",
       "      <td>73.06</td>\n",
       "      <td>0.00</td>\n",
       "      <td>8.40</td>\n",
       "      <td>1.59</td>\n",
       "      <td>0.0</td>\n",
       "      <td>7</td>\n",
       "    </tr>\n",
       "    <tr>\n",
       "      <th>211</th>\n",
       "      <td>1.52065</td>\n",
       "      <td>14.36</td>\n",
       "      <td>0.0</td>\n",
       "      <td>2.02</td>\n",
       "      <td>73.42</td>\n",
       "      <td>0.00</td>\n",
       "      <td>8.44</td>\n",
       "      <td>1.64</td>\n",
       "      <td>0.0</td>\n",
       "      <td>7</td>\n",
       "    </tr>\n",
       "    <tr>\n",
       "      <th>212</th>\n",
       "      <td>1.51651</td>\n",
       "      <td>14.38</td>\n",
       "      <td>0.0</td>\n",
       "      <td>1.94</td>\n",
       "      <td>73.61</td>\n",
       "      <td>0.00</td>\n",
       "      <td>8.48</td>\n",
       "      <td>1.57</td>\n",
       "      <td>0.0</td>\n",
       "      <td>7</td>\n",
       "    </tr>\n",
       "    <tr>\n",
       "      <th>213</th>\n",
       "      <td>1.51711</td>\n",
       "      <td>14.23</td>\n",
       "      <td>0.0</td>\n",
       "      <td>2.08</td>\n",
       "      <td>73.36</td>\n",
       "      <td>0.00</td>\n",
       "      <td>8.62</td>\n",
       "      <td>1.67</td>\n",
       "      <td>0.0</td>\n",
       "      <td>7</td>\n",
       "    </tr>\n",
       "  </tbody>\n",
       "</table>\n",
       "</div>"
      ],
      "text/plain": [
       "          RI     Na   Mg    Al     Si     K    Ca    Ba   Fe  Type\n",
       "209  1.51623  14.14  0.0  2.88  72.61  0.08  9.18  1.06  0.0     7\n",
       "210  1.51685  14.92  0.0  1.99  73.06  0.00  8.40  1.59  0.0     7\n",
       "211  1.52065  14.36  0.0  2.02  73.42  0.00  8.44  1.64  0.0     7\n",
       "212  1.51651  14.38  0.0  1.94  73.61  0.00  8.48  1.57  0.0     7\n",
       "213  1.51711  14.23  0.0  2.08  73.36  0.00  8.62  1.67  0.0     7"
      ]
     },
     "execution_count": 5,
     "metadata": {},
     "output_type": "execute_result"
    }
   ],
   "source": [
    "data.tail()"
   ]
  },
  {
   "cell_type": "code",
   "execution_count": 6,
   "id": "6aa4ec13",
   "metadata": {},
   "outputs": [
    {
     "data": {
      "text/plain": [
       "array([1, 2, 3, 5, 6, 7], dtype=int64)"
      ]
     },
     "execution_count": 6,
     "metadata": {},
     "output_type": "execute_result"
    }
   ],
   "source": [
    "data['Type'].unique()"
   ]
  },
  {
   "cell_type": "markdown",
   "id": "5e6d6f14",
   "metadata": {},
   "source": [
    "## Attribute Information:\n",
    "\n",
    "Id number: 1 to 214 (removed from CSV file)\n",
    "\n",
    "RI: refractive index\n",
    "\n",
    "Na: Sodium (unit measurement: weight percent in corresponding oxide, as are attributes 4-10)\n",
    "\n",
    "Mg: Magnesium\n",
    "\n",
    "Al: Aluminum\n",
    "\n",
    "Si: Silicon\n",
    "\n",
    "K: Potassium\n",
    "\n",
    "Ca: Calcium\n",
    "\n",
    "Ba: Barium\n",
    "\n",
    "Fe: Iron\n",
    "\n",
    "**Type of glass: (class attribute)**\n",
    "(to be predicted)\n",
    "\n",
    "1. building_windows_float_processed \n",
    "\n",
    "2. building_windows_non_float_processed \n",
    "\n",
    "3. vehicle_windows_float_processed\n",
    "\n",
    "4. vehicle_windows_non_float_processed (none in this database)\n",
    "\n",
    "5. containers\n",
    "\n",
    "6. tableware\n",
    "\n",
    "7. headlamps"
   ]
  },
  {
   "cell_type": "markdown",
   "id": "e6e60036",
   "metadata": {},
   "source": [
    "**Checking for null values.**"
   ]
  },
  {
   "cell_type": "code",
   "execution_count": 7,
   "id": "6fe68b37",
   "metadata": {},
   "outputs": [
    {
     "data": {
      "text/plain": [
       "RI      0\n",
       "Na      0\n",
       "Mg      0\n",
       "Al      0\n",
       "Si      0\n",
       "K       0\n",
       "Ca      0\n",
       "Ba      0\n",
       "Fe      0\n",
       "Type    0\n",
       "dtype: int64"
      ]
     },
     "execution_count": 7,
     "metadata": {},
     "output_type": "execute_result"
    }
   ],
   "source": [
    "data.isnull().sum()"
   ]
  },
  {
   "cell_type": "markdown",
   "id": "c65489bb",
   "metadata": {},
   "source": [
    "**No null values are present.**"
   ]
  },
  {
   "cell_type": "markdown",
   "id": "6fa03a69",
   "metadata": {},
   "source": [
    "**Checking for duplicate values.**"
   ]
  },
  {
   "cell_type": "code",
   "execution_count": 8,
   "id": "ec759136",
   "metadata": {},
   "outputs": [
    {
     "data": {
      "text/plain": [
       "1"
      ]
     },
     "execution_count": 8,
     "metadata": {},
     "output_type": "execute_result"
    }
   ],
   "source": [
    "data.duplicated().sum()"
   ]
  },
  {
   "cell_type": "markdown",
   "id": "d070d4b0",
   "metadata": {},
   "source": [
    "**There is one duplicate record. Lets remove it.**"
   ]
  },
  {
   "cell_type": "code",
   "execution_count": 9,
   "id": "3a12ced1",
   "metadata": {},
   "outputs": [],
   "source": [
    "data.drop_duplicates(inplace=True)"
   ]
  },
  {
   "cell_type": "code",
   "execution_count": 10,
   "id": "41cd9292",
   "metadata": {},
   "outputs": [
    {
     "data": {
      "text/plain": [
       "0"
      ]
     },
     "execution_count": 10,
     "metadata": {},
     "output_type": "execute_result"
    }
   ],
   "source": [
    "data.duplicated().sum()"
   ]
  },
  {
   "cell_type": "markdown",
   "id": "cb37e732",
   "metadata": {},
   "source": [
    "**No more duplicates present now.**"
   ]
  },
  {
   "cell_type": "markdown",
   "id": "b87fd18c",
   "metadata": {},
   "source": [
    "**Observing the correlation between the attributes.**"
   ]
  },
  {
   "cell_type": "code",
   "execution_count": 11,
   "id": "aaea31f5",
   "metadata": {},
   "outputs": [
    {
     "data": {
      "text/html": [
       "<div>\n",
       "<style scoped>\n",
       "    .dataframe tbody tr th:only-of-type {\n",
       "        vertical-align: middle;\n",
       "    }\n",
       "\n",
       "    .dataframe tbody tr th {\n",
       "        vertical-align: top;\n",
       "    }\n",
       "\n",
       "    .dataframe thead th {\n",
       "        text-align: right;\n",
       "    }\n",
       "</style>\n",
       "<table border=\"1\" class=\"dataframe\">\n",
       "  <thead>\n",
       "    <tr style=\"text-align: right;\">\n",
       "      <th></th>\n",
       "      <th>RI</th>\n",
       "      <th>Na</th>\n",
       "      <th>Mg</th>\n",
       "      <th>Al</th>\n",
       "      <th>Si</th>\n",
       "      <th>K</th>\n",
       "      <th>Ca</th>\n",
       "      <th>Ba</th>\n",
       "      <th>Fe</th>\n",
       "      <th>Type</th>\n",
       "    </tr>\n",
       "  </thead>\n",
       "  <tbody>\n",
       "    <tr>\n",
       "      <th>RI</th>\n",
       "      <td>1.000000</td>\n",
       "      <td>-0.198802</td>\n",
       "      <td>-0.127526</td>\n",
       "      <td>-0.400973</td>\n",
       "      <td>-0.539000</td>\n",
       "      <td>-0.287645</td>\n",
       "      <td>0.811183</td>\n",
       "      <td>0.001679</td>\n",
       "      <td>0.147083</td>\n",
       "      <td>-0.160140</td>\n",
       "    </tr>\n",
       "    <tr>\n",
       "      <th>Na</th>\n",
       "      <td>-0.198802</td>\n",
       "      <td>1.000000</td>\n",
       "      <td>-0.278420</td>\n",
       "      <td>0.167735</td>\n",
       "      <td>-0.064885</td>\n",
       "      <td>-0.264158</td>\n",
       "      <td>-0.278194</td>\n",
       "      <td>0.329080</td>\n",
       "      <td>-0.239374</td>\n",
       "      <td>0.508837</td>\n",
       "    </tr>\n",
       "    <tr>\n",
       "      <th>Mg</th>\n",
       "      <td>-0.127526</td>\n",
       "      <td>-0.278420</td>\n",
       "      <td>1.000000</td>\n",
       "      <td>-0.479575</td>\n",
       "      <td>-0.162437</td>\n",
       "      <td>0.007617</td>\n",
       "      <td>-0.446197</td>\n",
       "      <td>-0.491818</td>\n",
       "      <td>0.085426</td>\n",
       "      <td>-0.744195</td>\n",
       "    </tr>\n",
       "    <tr>\n",
       "      <th>Al</th>\n",
       "      <td>-0.400973</td>\n",
       "      <td>0.167735</td>\n",
       "      <td>-0.479575</td>\n",
       "      <td>1.000000</td>\n",
       "      <td>-0.016195</td>\n",
       "      <td>0.323683</td>\n",
       "      <td>-0.258068</td>\n",
       "      <td>0.480642</td>\n",
       "      <td>-0.080583</td>\n",
       "      <td>0.597432</td>\n",
       "    </tr>\n",
       "    <tr>\n",
       "      <th>Si</th>\n",
       "      <td>-0.539000</td>\n",
       "      <td>-0.064885</td>\n",
       "      <td>-0.162437</td>\n",
       "      <td>-0.016195</td>\n",
       "      <td>1.000000</td>\n",
       "      <td>-0.197281</td>\n",
       "      <td>-0.207145</td>\n",
       "      <td>-0.104389</td>\n",
       "      <td>-0.097717</td>\n",
       "      <td>0.147725</td>\n",
       "    </tr>\n",
       "    <tr>\n",
       "      <th>K</th>\n",
       "      <td>-0.287645</td>\n",
       "      <td>-0.264158</td>\n",
       "      <td>0.007617</td>\n",
       "      <td>0.323683</td>\n",
       "      <td>-0.197281</td>\n",
       "      <td>1.000000</td>\n",
       "      <td>-0.317032</td>\n",
       "      <td>-0.043653</td>\n",
       "      <td>-0.009372</td>\n",
       "      <td>-0.012455</td>\n",
       "    </tr>\n",
       "    <tr>\n",
       "      <th>Ca</th>\n",
       "      <td>0.811183</td>\n",
       "      <td>-0.278194</td>\n",
       "      <td>-0.446197</td>\n",
       "      <td>-0.258068</td>\n",
       "      <td>-0.207145</td>\n",
       "      <td>-0.317032</td>\n",
       "      <td>1.000000</td>\n",
       "      <td>-0.112208</td>\n",
       "      <td>0.126314</td>\n",
       "      <td>0.002677</td>\n",
       "    </tr>\n",
       "    <tr>\n",
       "      <th>Ba</th>\n",
       "      <td>0.001679</td>\n",
       "      <td>0.329080</td>\n",
       "      <td>-0.491818</td>\n",
       "      <td>0.480642</td>\n",
       "      <td>-0.104389</td>\n",
       "      <td>-0.043653</td>\n",
       "      <td>-0.112208</td>\n",
       "      <td>1.000000</td>\n",
       "      <td>-0.059729</td>\n",
       "      <td>0.574896</td>\n",
       "    </tr>\n",
       "    <tr>\n",
       "      <th>Fe</th>\n",
       "      <td>0.147083</td>\n",
       "      <td>-0.239374</td>\n",
       "      <td>0.085426</td>\n",
       "      <td>-0.080583</td>\n",
       "      <td>-0.097717</td>\n",
       "      <td>-0.009372</td>\n",
       "      <td>0.126314</td>\n",
       "      <td>-0.059729</td>\n",
       "      <td>1.000000</td>\n",
       "      <td>-0.191090</td>\n",
       "    </tr>\n",
       "    <tr>\n",
       "      <th>Type</th>\n",
       "      <td>-0.160140</td>\n",
       "      <td>0.508837</td>\n",
       "      <td>-0.744195</td>\n",
       "      <td>0.597432</td>\n",
       "      <td>0.147725</td>\n",
       "      <td>-0.012455</td>\n",
       "      <td>0.002677</td>\n",
       "      <td>0.574896</td>\n",
       "      <td>-0.191090</td>\n",
       "      <td>1.000000</td>\n",
       "    </tr>\n",
       "  </tbody>\n",
       "</table>\n",
       "</div>"
      ],
      "text/plain": [
       "            RI        Na        Mg        Al        Si         K        Ca  \\\n",
       "RI    1.000000 -0.198802 -0.127526 -0.400973 -0.539000 -0.287645  0.811183   \n",
       "Na   -0.198802  1.000000 -0.278420  0.167735 -0.064885 -0.264158 -0.278194   \n",
       "Mg   -0.127526 -0.278420  1.000000 -0.479575 -0.162437  0.007617 -0.446197   \n",
       "Al   -0.400973  0.167735 -0.479575  1.000000 -0.016195  0.323683 -0.258068   \n",
       "Si   -0.539000 -0.064885 -0.162437 -0.016195  1.000000 -0.197281 -0.207145   \n",
       "K    -0.287645 -0.264158  0.007617  0.323683 -0.197281  1.000000 -0.317032   \n",
       "Ca    0.811183 -0.278194 -0.446197 -0.258068 -0.207145 -0.317032  1.000000   \n",
       "Ba    0.001679  0.329080 -0.491818  0.480642 -0.104389 -0.043653 -0.112208   \n",
       "Fe    0.147083 -0.239374  0.085426 -0.080583 -0.097717 -0.009372  0.126314   \n",
       "Type -0.160140  0.508837 -0.744195  0.597432  0.147725 -0.012455  0.002677   \n",
       "\n",
       "            Ba        Fe      Type  \n",
       "RI    0.001679  0.147083 -0.160140  \n",
       "Na    0.329080 -0.239374  0.508837  \n",
       "Mg   -0.491818  0.085426 -0.744195  \n",
       "Al    0.480642 -0.080583  0.597432  \n",
       "Si   -0.104389 -0.097717  0.147725  \n",
       "K    -0.043653 -0.009372 -0.012455  \n",
       "Ca   -0.112208  0.126314  0.002677  \n",
       "Ba    1.000000 -0.059729  0.574896  \n",
       "Fe   -0.059729  1.000000 -0.191090  \n",
       "Type  0.574896 -0.191090  1.000000  "
      ]
     },
     "execution_count": 11,
     "metadata": {},
     "output_type": "execute_result"
    }
   ],
   "source": [
    "data.corr()"
   ]
  },
  {
   "cell_type": "markdown",
   "id": "64a0650d",
   "metadata": {},
   "source": [
    "**Visualizing it.**"
   ]
  },
  {
   "cell_type": "code",
   "execution_count": 12,
   "id": "b8056df2",
   "metadata": {},
   "outputs": [
    {
     "data": {
      "image/png": "[encoded data removed]",
      "text/plain": [
       "<Figure size 864x576 with 2 Axes>"
      ]
     },
     "metadata": {
      "needs_background": "light"
     },
     "output_type": "display_data"
    }
   ],
   "source": [
    "fig, ax = plt.subplots(figsize=(12, 8))\n",
    "ax = sns.heatmap(data.corr(), annot=True)"
   ]
  },
  {
   "cell_type": "markdown",
   "id": "34906817",
   "metadata": {},
   "source": [
    "**Frequencies of each type of glass in the given dataset.**"
   ]
  },
  {
   "cell_type": "code",
   "execution_count": 13,
   "id": "89234fb4",
   "metadata": {},
   "outputs": [
    {
     "name": "stdout",
     "output_type": "stream",
     "text": [
      "2    76\n",
      "1    69\n",
      "7    29\n",
      "3    17\n",
      "5    13\n",
      "6     9\n",
      "Name: Type, dtype: int64\n"
     ]
    }
   ],
   "source": [
    "freq_glass_type = data['Type'].value_counts()\n",
    "print(freq_glass_type)"
   ]
  },
  {
   "cell_type": "markdown",
   "id": "6a432d81",
   "metadata": {},
   "source": [
    "**Visualizing it.**"
   ]
  },
  {
   "cell_type": "code",
   "execution_count": 14,
   "id": "d92583b4",
   "metadata": {},
   "outputs": [
    {
     "data": {
      "text/plain": [
       "<AxesSubplot:xlabel='Type', ylabel='count'>"
      ]
     },
     "execution_count": 14,
     "metadata": {},
     "output_type": "execute_result"
    },
    {
     "data": {
      "image/png": "[encoded data removed]",
      "text/plain": [
       "<Figure size 432x288 with 1 Axes>"
      ]
     },
     "metadata": {
      "needs_background": "light"
     },
     "output_type": "display_data"
    }
   ],
   "source": [
    "sns.countplot(data['Type'])"
   ]
  },
  {
   "cell_type": "markdown",
   "id": "8a103873",
   "metadata": {},
   "source": [
    "# Splitting the data into training and testing set "
   ]
  },
  {
   "cell_type": "code",
   "execution_count": 15,
   "id": "25fac991",
   "metadata": {},
   "outputs": [],
   "source": [
    "split_at = 9\n",
    "X = data.iloc[:, :split_at]\n",
    "y = data.iloc[:, split_at:]"
   ]
  },
  {
   "cell_type": "code",
   "execution_count": 16,
   "id": "5ab4b9ff",
   "metadata": {},
   "outputs": [
    {
     "data": {
      "text/html": [
       "<div>\n",
       "<style scoped>\n",
       "    .dataframe tbody tr th:only-of-type {\n",
       "        vertical-align: middle;\n",
       "    }\n",
       "\n",
       "    .dataframe tbody tr th {\n",
       "        vertical-align: top;\n",
       "    }\n",
       "\n",
       "    .dataframe thead th {\n",
       "        text-align: right;\n",
       "    }\n",
       "</style>\n",
       "<table border=\"1\" class=\"dataframe\">\n",
       "  <thead>\n",
       "    <tr style=\"text-align: right;\">\n",
       "      <th></th>\n",
       "      <th>RI</th>\n",
       "      <th>Na</th>\n",
       "      <th>Mg</th>\n",
       "      <th>Al</th>\n",
       "      <th>Si</th>\n",
       "      <th>K</th>\n",
       "      <th>Ca</th>\n",
       "      <th>Ba</th>\n",
       "      <th>Fe</th>\n",
       "    </tr>\n",
       "  </thead>\n",
       "  <tbody>\n",
       "    <tr>\n",
       "      <th>0</th>\n",
       "      <td>1.52101</td>\n",
       "      <td>13.64</td>\n",
       "      <td>4.49</td>\n",
       "      <td>1.10</td>\n",
       "      <td>71.78</td>\n",
       "      <td>0.06</td>\n",
       "      <td>8.75</td>\n",
       "      <td>0.00</td>\n",
       "      <td>0.0</td>\n",
       "    </tr>\n",
       "    <tr>\n",
       "      <th>1</th>\n",
       "      <td>1.51761</td>\n",
       "      <td>13.89</td>\n",
       "      <td>3.60</td>\n",
       "      <td>1.36</td>\n",
       "      <td>72.73</td>\n",
       "      <td>0.48</td>\n",
       "      <td>7.83</td>\n",
       "      <td>0.00</td>\n",
       "      <td>0.0</td>\n",
       "    </tr>\n",
       "    <tr>\n",
       "      <th>2</th>\n",
       "      <td>1.51618</td>\n",
       "      <td>13.53</td>\n",
       "      <td>3.55</td>\n",
       "      <td>1.54</td>\n",
       "      <td>72.99</td>\n",
       "      <td>0.39</td>\n",
       "      <td>7.78</td>\n",
       "      <td>0.00</td>\n",
       "      <td>0.0</td>\n",
       "    </tr>\n",
       "    <tr>\n",
       "      <th>3</th>\n",
       "      <td>1.51766</td>\n",
       "      <td>13.21</td>\n",
       "      <td>3.69</td>\n",
       "      <td>1.29</td>\n",
       "      <td>72.61</td>\n",
       "      <td>0.57</td>\n",
       "      <td>8.22</td>\n",
       "      <td>0.00</td>\n",
       "      <td>0.0</td>\n",
       "    </tr>\n",
       "    <tr>\n",
       "      <th>4</th>\n",
       "      <td>1.51742</td>\n",
       "      <td>13.27</td>\n",
       "      <td>3.62</td>\n",
       "      <td>1.24</td>\n",
       "      <td>73.08</td>\n",
       "      <td>0.55</td>\n",
       "      <td>8.07</td>\n",
       "      <td>0.00</td>\n",
       "      <td>0.0</td>\n",
       "    </tr>\n",
       "    <tr>\n",
       "      <th>...</th>\n",
       "      <td>...</td>\n",
       "      <td>...</td>\n",
       "      <td>...</td>\n",
       "      <td>...</td>\n",
       "      <td>...</td>\n",
       "      <td>...</td>\n",
       "      <td>...</td>\n",
       "      <td>...</td>\n",
       "      <td>...</td>\n",
       "    </tr>\n",
       "    <tr>\n",
       "      <th>209</th>\n",
       "      <td>1.51623</td>\n",
       "      <td>14.14</td>\n",
       "      <td>0.00</td>\n",
       "      <td>2.88</td>\n",
       "      <td>72.61</td>\n",
       "      <td>0.08</td>\n",
       "      <td>9.18</td>\n",
       "      <td>1.06</td>\n",
       "      <td>0.0</td>\n",
       "    </tr>\n",
       "    <tr>\n",
       "      <th>210</th>\n",
       "      <td>1.51685</td>\n",
       "      <td>14.92</td>\n",
       "      <td>0.00</td>\n",
       "      <td>1.99</td>\n",
       "      <td>73.06</td>\n",
       "      <td>0.00</td>\n",
       "      <td>8.40</td>\n",
       "      <td>1.59</td>\n",
       "      <td>0.0</td>\n",
       "    </tr>\n",
       "    <tr>\n",
       "      <th>211</th>\n",
       "      <td>1.52065</td>\n",
       "      <td>14.36</td>\n",
       "      <td>0.00</td>\n",
       "      <td>2.02</td>\n",
       "      <td>73.42</td>\n",
       "      <td>0.00</td>\n",
       "      <td>8.44</td>\n",
       "      <td>1.64</td>\n",
       "      <td>0.0</td>\n",
       "    </tr>\n",
       "    <tr>\n",
       "      <th>212</th>\n",
       "      <td>1.51651</td>\n",
       "      <td>14.38</td>\n",
       "      <td>0.00</td>\n",
       "      <td>1.94</td>\n",
       "      <td>73.61</td>\n",
       "      <td>0.00</td>\n",
       "      <td>8.48</td>\n",
       "      <td>1.57</td>\n",
       "      <td>0.0</td>\n",
       "    </tr>\n",
       "    <tr>\n",
       "      <th>213</th>\n",
       "      <td>1.51711</td>\n",
       "      <td>14.23</td>\n",
       "      <td>0.00</td>\n",
       "      <td>2.08</td>\n",
       "      <td>73.36</td>\n",
       "      <td>0.00</td>\n",
       "      <td>8.62</td>\n",
       "      <td>1.67</td>\n",
       "      <td>0.0</td>\n",
       "    </tr>\n",
       "  </tbody>\n",
       "</table>\n",
       "<p>213 rows × 9 columns</p>\n",
       "</div>"
      ],
      "text/plain": [
       "          RI     Na    Mg    Al     Si     K    Ca    Ba   Fe\n",
       "0    1.52101  13.64  4.49  1.10  71.78  0.06  8.75  0.00  0.0\n",
       "1    1.51761  13.89  3.60  1.36  72.73  0.48  7.83  0.00  0.0\n",
       "2    1.51618  13.53  3.55  1.54  72.99  0.39  7.78  0.00  0.0\n",
       "3    1.51766  13.21  3.69  1.29  72.61  0.57  8.22  0.00  0.0\n",
       "4    1.51742  13.27  3.62  1.24  73.08  0.55  8.07  0.00  0.0\n",
       "..       ...    ...   ...   ...    ...   ...   ...   ...  ...\n",
       "209  1.51623  14.14  0.00  2.88  72.61  0.08  9.18  1.06  0.0\n",
       "210  1.51685  14.92  0.00  1.99  73.06  0.00  8.40  1.59  0.0\n",
       "211  1.52065  14.36  0.00  2.02  73.42  0.00  8.44  1.64  0.0\n",
       "212  1.51651  14.38  0.00  1.94  73.61  0.00  8.48  1.57  0.0\n",
       "213  1.51711  14.23  0.00  2.08  73.36  0.00  8.62  1.67  0.0\n",
       "\n",
       "[213 rows x 9 columns]"
      ]
     },
     "execution_count": 16,
     "metadata": {},
     "output_type": "execute_result"
    }
   ],
   "source": [
    "X"
   ]
  },
  {
   "cell_type": "code",
   "execution_count": 17,
   "id": "d1d10b2a",
   "metadata": {},
   "outputs": [
    {
     "data": {
      "text/html": [
       "<div>\n",
       "<style scoped>\n",
       "    .dataframe tbody tr th:only-of-type {\n",
       "        vertical-align: middle;\n",
       "    }\n",
       "\n",
       "    .dataframe tbody tr th {\n",
       "        vertical-align: top;\n",
       "    }\n",
       "\n",
       "    .dataframe thead th {\n",
       "        text-align: right;\n",
       "    }\n",
       "</style>\n",
       "<table border=\"1\" class=\"dataframe\">\n",
       "  <thead>\n",
       "    <tr style=\"text-align: right;\">\n",
       "      <th></th>\n",
       "      <th>Type</th>\n",
       "    </tr>\n",
       "  </thead>\n",
       "  <tbody>\n",
       "    <tr>\n",
       "      <th>0</th>\n",
       "      <td>1</td>\n",
       "    </tr>\n",
       "    <tr>\n",
       "      <th>1</th>\n",
       "      <td>1</td>\n",
       "    </tr>\n",
       "    <tr>\n",
       "      <th>2</th>\n",
       "      <td>1</td>\n",
       "    </tr>\n",
       "    <tr>\n",
       "      <th>3</th>\n",
       "      <td>1</td>\n",
       "    </tr>\n",
       "    <tr>\n",
       "      <th>4</th>\n",
       "      <td>1</td>\n",
       "    </tr>\n",
       "    <tr>\n",
       "      <th>...</th>\n",
       "      <td>...</td>\n",
       "    </tr>\n",
       "    <tr>\n",
       "      <th>209</th>\n",
       "      <td>7</td>\n",
       "    </tr>\n",
       "    <tr>\n",
       "      <th>210</th>\n",
       "      <td>7</td>\n",
       "    </tr>\n",
       "    <tr>\n",
       "      <th>211</th>\n",
       "      <td>7</td>\n",
       "    </tr>\n",
       "    <tr>\n",
       "      <th>212</th>\n",
       "      <td>7</td>\n",
       "    </tr>\n",
       "    <tr>\n",
       "      <th>213</th>\n",
       "      <td>7</td>\n",
       "    </tr>\n",
       "  </tbody>\n",
       "</table>\n",
       "<p>213 rows × 1 columns</p>\n",
       "</div>"
      ],
      "text/plain": [
       "     Type\n",
       "0       1\n",
       "1       1\n",
       "2       1\n",
       "3       1\n",
       "4       1\n",
       "..    ...\n",
       "209     7\n",
       "210     7\n",
       "211     7\n",
       "212     7\n",
       "213     7\n",
       "\n",
       "[213 rows x 1 columns]"
      ]
     },
     "execution_count": 17,
     "metadata": {},
     "output_type": "execute_result"
    }
   ],
   "source": [
    "y"
   ]
  },
  {
   "cell_type": "code",
   "execution_count": 18,
   "id": "7d060f21",
   "metadata": {},
   "outputs": [],
   "source": [
    "X_train, X_test, y_train, y_test = train_test_split(X, y, test_size=0.2, random_state=1)"
   ]
  },
  {
   "cell_type": "code",
   "execution_count": 19,
   "id": "ad8fa72f",
   "metadata": {},
   "outputs": [
    {
     "name": "stdout",
     "output_type": "stream",
     "text": [
      "X_train shape: (170, 9)\n",
      "y_train shape: (170, 1)\n",
      "X_test shape: (43, 9)\n",
      "y_test shape: (43, 1)\n"
     ]
    }
   ],
   "source": [
    "print('X_train shape:', X_train.shape)\n",
    "print('y_train shape:', y_train.shape)\n",
    "print('X_test shape:', X_test.shape)\n",
    "print('y_test shape:', y_test.shape)"
   ]
  },
  {
   "cell_type": "markdown",
   "id": "e52a62b3",
   "metadata": {},
   "source": [
    "# Building different models."
   ]
  },
  {
   "cell_type": "markdown",
   "id": "a963ca03",
   "metadata": {},
   "source": [
    "# 1. Random Forest Classifier "
   ]
  },
  {
   "cell_type": "code",
   "execution_count": 20,
   "id": "a1872e0b",
   "metadata": {},
   "outputs": [],
   "source": [
    "rf = RandomForestClassifier()"
   ]
  },
  {
   "cell_type": "code",
   "execution_count": 21,
   "id": "cb1386ff",
   "metadata": {},
   "outputs": [
    {
     "data": {
      "text/plain": [
       "RandomForestClassifier()"
      ]
     },
     "execution_count": 21,
     "metadata": {},
     "output_type": "execute_result"
    }
   ],
   "source": [
    "rf.fit(X_train, y_train)"
   ]
  },
  {
   "cell_type": "code",
   "execution_count": 22,
   "id": "dbfc85dd",
   "metadata": {},
   "outputs": [],
   "source": [
    "rf_y_pred = rf.predict(X_test)"
   ]
  },
  {
   "cell_type": "code",
   "execution_count": 23,
   "id": "ac69545e",
   "metadata": {},
   "outputs": [
    {
     "data": {
      "text/plain": [
       "array([6, 7, 2, 6, 1, 1, 1, 3, 1, 1, 2, 1, 2, 2, 1, 2, 2, 2, 1, 1, 1, 6,\n",
       "       2, 1, 3, 3, 2, 2, 2, 3, 2, 6, 1, 1, 1, 2, 2, 3, 2, 1, 1, 7, 7],\n",
       "      dtype=int64)"
      ]
     },
     "execution_count": 23,
     "metadata": {},
     "output_type": "execute_result"
    }
   ],
   "source": [
    "rf_y_pred"
   ]
  },
  {
   "cell_type": "markdown",
   "id": "8fdb6c61",
   "metadata": {},
   "source": [
    "### Confusion Matrix"
   ]
  },
  {
   "cell_type": "code",
   "execution_count": 24,
   "id": "c4ad147c",
   "metadata": {},
   "outputs": [
    {
     "data": {
      "text/plain": [
       "array([[14,  2,  2,  0,  0,  0],\n",
       "       [ 0, 11,  0,  0,  2,  0],\n",
       "       [ 2,  1,  3,  0,  0,  0],\n",
       "       [ 0,  1,  0,  0,  0,  0],\n",
       "       [ 0,  0,  0,  0,  2,  0],\n",
       "       [ 0,  0,  0,  0,  0,  3]], dtype=int64)"
      ]
     },
     "execution_count": 24,
     "metadata": {},
     "output_type": "execute_result"
    }
   ],
   "source": [
    "confusion_matrix(y_test, rf_y_pred)"
   ]
  },
  {
   "cell_type": "markdown",
   "id": "25459f06",
   "metadata": {},
   "source": [
    "### Accuracy Score "
   ]
  },
  {
   "cell_type": "code",
   "execution_count": 25,
   "id": "3e7da848",
   "metadata": {},
   "outputs": [
    {
     "name": "stdout",
     "output_type": "stream",
     "text": [
      "0.7674418604651163\n"
     ]
    }
   ],
   "source": [
    "rf_acc = accuracy_score(y_test, rf_y_pred)\n",
    "print(rf_acc)"
   ]
  },
  {
   "cell_type": "markdown",
   "id": "c9922c0d",
   "metadata": {},
   "source": [
    "# 2. Decision Tree Classifier"
   ]
  },
  {
   "cell_type": "code",
   "execution_count": 26,
   "id": "292c5f39",
   "metadata": {},
   "outputs": [],
   "source": [
    "dt = DecisionTreeClassifier()"
   ]
  },
  {
   "cell_type": "code",
   "execution_count": 27,
   "id": "031866cd",
   "metadata": {},
   "outputs": [
    {
     "data": {
      "text/plain": [
       "DecisionTreeClassifier()"
      ]
     },
     "execution_count": 27,
     "metadata": {},
     "output_type": "execute_result"
    }
   ],
   "source": [
    "dt.fit(X_train, y_train)"
   ]
  },
  {
   "cell_type": "code",
   "execution_count": 28,
   "id": "290cb41b",
   "metadata": {},
   "outputs": [],
   "source": [
    "dt_y_pred = dt.predict(X_test)"
   ]
  },
  {
   "cell_type": "code",
   "execution_count": 29,
   "id": "9e86e0d0",
   "metadata": {},
   "outputs": [
    {
     "data": {
      "text/plain": [
       "array([6, 7, 2, 2, 1, 1, 2, 3, 1, 1, 2, 1, 2, 2, 3, 2, 3, 2, 1, 1, 1, 6,\n",
       "       2, 2, 3, 2, 2, 2, 2, 1, 5, 6, 1, 1, 1, 2, 3, 2, 2, 2, 1, 7, 7],\n",
       "      dtype=int64)"
      ]
     },
     "execution_count": 29,
     "metadata": {},
     "output_type": "execute_result"
    }
   ],
   "source": [
    "dt_y_pred"
   ]
  },
  {
   "cell_type": "markdown",
   "id": "a572bc29",
   "metadata": {},
   "source": [
    "### Confusion Matrix"
   ]
  },
  {
   "cell_type": "code",
   "execution_count": 30,
   "id": "16cf6478",
   "metadata": {},
   "outputs": [
    {
     "data": {
      "text/plain": [
       "array([[12,  6,  0,  0,  0,  0],\n",
       "       [ 0, 11,  1,  0,  1,  0],\n",
       "       [ 1,  1,  4,  0,  0,  0],\n",
       "       [ 0,  0,  0,  1,  0,  0],\n",
       "       [ 0,  0,  0,  0,  2,  0],\n",
       "       [ 0,  0,  0,  0,  0,  3]], dtype=int64)"
      ]
     },
     "execution_count": 30,
     "metadata": {},
     "output_type": "execute_result"
    }
   ],
   "source": [
    "confusion_matrix(y_test, dt_y_pred)"
   ]
  },
  {
   "cell_type": "markdown",
   "id": "7eacb4ca",
   "metadata": {},
   "source": [
    "### Accuracy Score "
   ]
  },
  {
   "cell_type": "code",
   "execution_count": 31,
   "id": "453150e2",
   "metadata": {},
   "outputs": [
    {
     "data": {
      "text/plain": [
       "0.7674418604651163"
      ]
     },
     "execution_count": 31,
     "metadata": {},
     "output_type": "execute_result"
    }
   ],
   "source": [
    "dt_acc = accuracy_score(y_test, dt_y_pred)\n",
    "dt_acc"
   ]
  },
  {
   "cell_type": "markdown",
   "id": "9e7b04d7",
   "metadata": {},
   "source": [
    "# 3. K-Nearest Neighbors Classifier"
   ]
  },
  {
   "cell_type": "code",
   "execution_count": 32,
   "id": "15b0d3b8",
   "metadata": {},
   "outputs": [],
   "source": [
    "knn = KNeighborsClassifier(n_neighbors=5)"
   ]
  },
  {
   "cell_type": "code",
   "execution_count": 33,
   "id": "def40160",
   "metadata": {},
   "outputs": [
    {
     "data": {
      "text/plain": [
       "KNeighborsClassifier()"
      ]
     },
     "execution_count": 33,
     "metadata": {},
     "output_type": "execute_result"
    }
   ],
   "source": [
    "knn.fit(X_train, y_train)"
   ]
  },
  {
   "cell_type": "code",
   "execution_count": 34,
   "id": "71c317c1",
   "metadata": {},
   "outputs": [],
   "source": [
    "knn_y_pred = knn.predict(X_test)"
   ]
  },
  {
   "cell_type": "code",
   "execution_count": 35,
   "id": "647fa34c",
   "metadata": {},
   "outputs": [
    {
     "data": {
      "text/plain": [
       "array([5, 7, 2, 5, 1, 1, 3, 1, 1, 1, 2, 1, 1, 2, 1, 2, 3, 2, 1, 1, 1, 6,\n",
       "       2, 1, 1, 1, 2, 2, 1, 1, 5, 7, 1, 1, 1, 2, 1, 1, 2, 1, 1, 7, 7],\n",
       "      dtype=int64)"
      ]
     },
     "execution_count": 35,
     "metadata": {},
     "output_type": "execute_result"
    }
   ],
   "source": [
    "knn_y_pred"
   ]
  },
  {
   "cell_type": "markdown",
   "id": "db4062ee",
   "metadata": {},
   "source": [
    "### Confusion Matrix "
   ]
  },
  {
   "cell_type": "code",
   "execution_count": 36,
   "id": "683aa7ae",
   "metadata": {},
   "outputs": [
    {
     "data": {
      "text/plain": [
       "array([[16,  1,  1,  0,  0,  0],\n",
       "       [ 1,  9,  1,  2,  0,  0],\n",
       "       [ 6,  0,  0,  0,  0,  0],\n",
       "       [ 0,  0,  0,  1,  0,  0],\n",
       "       [ 0,  0,  0,  0,  1,  1],\n",
       "       [ 0,  0,  0,  0,  0,  3]], dtype=int64)"
      ]
     },
     "execution_count": 36,
     "metadata": {},
     "output_type": "execute_result"
    }
   ],
   "source": [
    "confusion_matrix(y_test, knn_y_pred)"
   ]
  },
  {
   "cell_type": "markdown",
   "id": "4ccf8911",
   "metadata": {},
   "source": [
    "### Accuracy Score "
   ]
  },
  {
   "cell_type": "code",
   "execution_count": 37,
   "id": "2a4d689e",
   "metadata": {},
   "outputs": [
    {
     "name": "stdout",
     "output_type": "stream",
     "text": [
      "0.6976744186046512\n"
     ]
    }
   ],
   "source": [
    "knn_acc = accuracy_score(y_test, knn_y_pred)\n",
    "print(knn_acc)"
   ]
  },
  {
   "cell_type": "markdown",
   "id": "2cfd8b59",
   "metadata": {},
   "source": [
    "# Conclusion:\n",
    "\n",
    "Looking at the accuracy and confusion matrix of each of the above model, we can say that the **Random Forest Classifier** suits our case the best."
   ]
  },
  {
   "cell_type": "code",
   "execution_count": null,
   "id": "c64e395a",
   "metadata": {},
   "outputs": [],
   "source": []
  }
 ],
 "metadata": {
  "kernelspec": {
   "display_name": "Python 3 (ipykernel)",
   "language": "python",
   "name": "python3"
  },
  "language_info": {
   "codemirror_mode": {
    "name": "ipython",
    "version": 3
   },
   "file_extension": ".py",
   "mimetype": "text/x-python",
   "name": "python",
   "nbconvert_exporter": "python",
   "pygments_lexer": "ipython3",
   "version": "3.8.10"
  },
  "varInspector": {
   "cols": {
    "lenName": 16,
    "lenType": 16,
    "lenVar": 40
   },
   "kernels_config": {
    "python": {
     "delete_cmd_postfix": "",
     "delete_cmd_prefix": "del ",
     "library": "var_list.py",
     "varRefreshCmd": "print(var_dic_list())"
    },
    "r": {
     "delete_cmd_postfix": ") ",
     "delete_cmd_prefix": "rm(",
     "library": "var_list.r",
     "varRefreshCmd": "cat(var_dic_list()) "
    }
   },
   "types_to_exclude": [
    "module",
    "function",
    "builtin_function_or_method",
    "instance",
    "_Feature"
   ],
   "window_display": false
  }
 },
 "nbformat": 4,
 "nbformat_minor": 5
}
