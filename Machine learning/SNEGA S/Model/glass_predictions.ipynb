{
 "cells": [
  {
   "cell_type": "code",
   "execution_count": 1,
   "id": "7d379dba-8a3f-42f0-b07b-2837d2cd2490",
   "metadata": {},
   "outputs": [],
   "source": [
    "# GLASS PREDICTION USING MACHINE LEARNING"
   ]
  },
  {
   "cell_type": "code",
   "execution_count": 2,
   "id": "eab98a31-f130-4fdb-a1be-ddd6d459974a",
   "metadata": {},
   "outputs": [],
   "source": [
    "import pandas as pd\n",
    "import numpy as np"
   ]
  },
  {
   "cell_type": "code",
   "execution_count": 3,
   "id": "339cfba9-c594-4b52-8ad9-ac04a866bbb3",
   "metadata": {},
   "outputs": [],
   "source": [
    "# READ DATA FILE"
   ]
  },
  {
   "cell_type": "code",
   "execution_count": 4,
   "id": "d70ee185-e55c-4100-ab6a-79a1c642af03",
   "metadata": {},
   "outputs": [
    {
     "data": {
      "text/html": [
       "<div>\n",
       "<style scoped>\n",
       "    .dataframe tbody tr th:only-of-type {\n",
       "        vertical-align: middle;\n",
       "    }\n",
       "\n",
       "    .dataframe tbody tr th {\n",
       "        vertical-align: top;\n",
       "    }\n",
       "\n",
       "    .dataframe thead th {\n",
       "        text-align: right;\n",
       "    }\n",
       "</style>\n",
       "<table border=\"1\" class=\"dataframe\">\n",
       "  <thead>\n",
       "    <tr style=\"text-align: right;\">\n",
       "      <th></th>\n",
       "      <th>ID</th>\n",
       "      <th>RI</th>\n",
       "      <th>Na</th>\n",
       "      <th>Mg</th>\n",
       "      <th>Al</th>\n",
       "      <th>Si</th>\n",
       "      <th>K</th>\n",
       "      <th>Ca</th>\n",
       "      <th>Ba</th>\n",
       "      <th>Fe</th>\n",
       "      <th>Type of glass</th>\n",
       "    </tr>\n",
       "  </thead>\n",
       "  <tbody>\n",
       "    <tr>\n",
       "      <th>0</th>\n",
       "      <td>1</td>\n",
       "      <td>1.52101</td>\n",
       "      <td>13.64</td>\n",
       "      <td>4.49</td>\n",
       "      <td>1.10</td>\n",
       "      <td>71.78</td>\n",
       "      <td>0.06</td>\n",
       "      <td>8.75</td>\n",
       "      <td>0.0</td>\n",
       "      <td>0.0</td>\n",
       "      <td>1</td>\n",
       "    </tr>\n",
       "    <tr>\n",
       "      <th>1</th>\n",
       "      <td>2</td>\n",
       "      <td>1.51761</td>\n",
       "      <td>13.89</td>\n",
       "      <td>3.60</td>\n",
       "      <td>1.36</td>\n",
       "      <td>72.73</td>\n",
       "      <td>0.48</td>\n",
       "      <td>7.83</td>\n",
       "      <td>0.0</td>\n",
       "      <td>0.0</td>\n",
       "      <td>1</td>\n",
       "    </tr>\n",
       "    <tr>\n",
       "      <th>2</th>\n",
       "      <td>3</td>\n",
       "      <td>1.51618</td>\n",
       "      <td>13.53</td>\n",
       "      <td>3.55</td>\n",
       "      <td>1.54</td>\n",
       "      <td>72.99</td>\n",
       "      <td>0.39</td>\n",
       "      <td>7.78</td>\n",
       "      <td>0.0</td>\n",
       "      <td>0.0</td>\n",
       "      <td>1</td>\n",
       "    </tr>\n",
       "    <tr>\n",
       "      <th>3</th>\n",
       "      <td>4</td>\n",
       "      <td>1.51766</td>\n",
       "      <td>13.21</td>\n",
       "      <td>3.69</td>\n",
       "      <td>1.29</td>\n",
       "      <td>72.61</td>\n",
       "      <td>0.57</td>\n",
       "      <td>8.22</td>\n",
       "      <td>0.0</td>\n",
       "      <td>0.0</td>\n",
       "      <td>1</td>\n",
       "    </tr>\n",
       "    <tr>\n",
       "      <th>4</th>\n",
       "      <td>5</td>\n",
       "      <td>1.51742</td>\n",
       "      <td>13.27</td>\n",
       "      <td>3.62</td>\n",
       "      <td>1.24</td>\n",
       "      <td>73.08</td>\n",
       "      <td>0.55</td>\n",
       "      <td>8.07</td>\n",
       "      <td>0.0</td>\n",
       "      <td>0.0</td>\n",
       "      <td>1</td>\n",
       "    </tr>\n",
       "  </tbody>\n",
       "</table>\n",
       "</div>"
      ],
      "text/plain": [
       "   ID        RI     Na    Mg    Al     Si     K    Ca   Ba   Fe  Type of glass\n",
       "0    1  1.52101  13.64  4.49  1.10  71.78  0.06  8.75  0.0  0.0              1\n",
       "1    2  1.51761  13.89  3.60  1.36  72.73  0.48  7.83  0.0  0.0              1\n",
       "2    3  1.51618  13.53  3.55  1.54  72.99  0.39  7.78  0.0  0.0              1\n",
       "3    4  1.51766  13.21  3.69  1.29  72.61  0.57  8.22  0.0  0.0              1\n",
       "4    5  1.51742  13.27  3.62  1.24  73.08  0.55  8.07  0.0  0.0              1"
      ]
     },
     "execution_count": 4,
     "metadata": {},
     "output_type": "execute_result"
    }
   ],
   "source": [
    "df = pd.read_csv(\"glassdata.csv\")\n",
    "df.head()"
   ]
  },
  {
   "cell_type": "code",
   "execution_count": 5,
   "id": "0c4e8057-0318-44ba-9817-a83948e3e794",
   "metadata": {},
   "outputs": [],
   "source": [
    "# NO.OF ROWS AND COLUMNS"
   ]
  },
  {
   "cell_type": "code",
   "execution_count": 6,
   "id": "e181e517-c0c5-4c3e-8966-51bf8716b0c7",
   "metadata": {},
   "outputs": [
    {
     "data": {
      "text/plain": [
       "(214, 11)"
      ]
     },
     "execution_count": 6,
     "metadata": {},
     "output_type": "execute_result"
    }
   ],
   "source": [
    "df.shape"
   ]
  },
  {
   "cell_type": "code",
   "execution_count": 7,
   "id": "e97ef709-588e-453c-be3e-03d9145f90f1",
   "metadata": {},
   "outputs": [],
   "source": [
    "# CHECKING FOR NULL VALUES"
   ]
  },
  {
   "cell_type": "code",
   "execution_count": 8,
   "id": "93aa6a06-4fde-4cd2-acf8-f0a07cd68fcf",
   "metadata": {},
   "outputs": [
    {
     "data": {
      "text/plain": [
       "ID               0\n",
       "RI               0\n",
       "Na               0\n",
       "Mg               0\n",
       "Al               0\n",
       "Si               0\n",
       "K                0\n",
       "Ca               0\n",
       "Ba               0\n",
       "Fe               0\n",
       "Type of glass    0\n",
       "dtype: int64"
      ]
     },
     "execution_count": 8,
     "metadata": {},
     "output_type": "execute_result"
    }
   ],
   "source": [
    "df.isna().sum()"
   ]
  },
  {
   "cell_type": "code",
   "execution_count": 9,
   "id": "91d45ff5-877b-42fe-9144-7c0e645e8253",
   "metadata": {},
   "outputs": [],
   "source": [
    "# CHECKING FOR THE DEPENDENCY OF EACH FEATURE ON ANOTHER"
   ]
  },
  {
   "cell_type": "code",
   "execution_count": 10,
   "id": "99b1422e-a694-4052-b219-78bbd2aa5c33",
   "metadata": {},
   "outputs": [
    {
     "data": {
      "text/plain": [
       "Type of glass    1.000000\n",
       "ID               0.877357\n",
       "Mg               0.744993\n",
       "Al               0.598829\n",
       "Ba               0.575161\n",
       "Na               0.502898\n",
       "Fe               0.188278\n",
       "RI               0.164237\n",
       "Si               0.151565\n",
       "K                0.010054\n",
       "Ca               0.000952\n",
       "Name: Type of glass, dtype: float64"
      ]
     },
     "execution_count": 10,
     "metadata": {},
     "output_type": "execute_result"
    }
   ],
   "source": [
    "correlation=df.corr()['Type of glass']\n",
    "correlation.abs().sort_values(ascending=False)"
   ]
  },
  {
   "cell_type": "code",
   "execution_count": 11,
   "id": "cc1b1e4b-26b0-48db-b035-9d2814a192ac",
   "metadata": {},
   "outputs": [],
   "source": [
    "# SEPERATING DEPENDENT AND INDEPENDENT VARIABLES"
   ]
  },
  {
   "cell_type": "code",
   "execution_count": 12,
   "id": "bf5278da-04a1-4d6c-aa12-aa4b402a6ff3",
   "metadata": {},
   "outputs": [],
   "source": [
    "y=df['Type of glass']\n",
    "x=df.drop('Type of glass',axis=1)"
   ]
  },
  {
   "cell_type": "code",
   "execution_count": null,
   "id": "ada2321d-a58b-41a1-be7b-445e9cf5e906",
   "metadata": {},
   "outputs": [],
   "source": []
  },
  {
   "cell_type": "code",
   "execution_count": 13,
   "id": "caff42a7-e201-420e-8229-e20825a9c1ce",
   "metadata": {},
   "outputs": [],
   "source": [
    "from sklearn.model_selection import train_test_split"
   ]
  },
  {
   "cell_type": "code",
   "execution_count": 14,
   "id": "2775742c-5e92-451a-be17-63463ec0b432",
   "metadata": {},
   "outputs": [],
   "source": [
    "# SPLITTING TRAIN AND TEST DATA"
   ]
  },
  {
   "cell_type": "code",
   "execution_count": 15,
   "id": "45929cbc-3d4a-4b6c-894c-0892be9a1b8a",
   "metadata": {},
   "outputs": [],
   "source": [
    "X_train,X_test,y_train,y_test=train_test_split(x,y,test_size=0.23,random_state=42)"
   ]
  },
  {
   "cell_type": "code",
   "execution_count": 16,
   "id": "6549c92c-5a7b-454a-887a-40a77027aa93",
   "metadata": {},
   "outputs": [
    {
     "name": "stdout",
     "output_type": "stream",
     "text": [
      "Note: you may need to restart the kernel to use updated packages.\n"
     ]
    },
    {
     "name": "stderr",
     "output_type": "stream",
     "text": [
      "The filename, directory name, or volume label syntax is incorrect.\n"
     ]
    }
   ],
   "source": [
    "pip install xgboost"
   ]
  },
  {
   "cell_type": "code",
   "execution_count": 17,
   "id": "1483c7ab-7419-438e-a103-7d4a8da1db6a",
   "metadata": {},
   "outputs": [],
   "source": [
    "## USINg DIFFERENT ALGORITHMS LIKE NAIVE BAYES, RANDOM FOREST,\n",
    "## DECISION TREE, KNN, XGBOOST TO PREDICT THE TARGET VALUE "
   ]
  },
  {
   "cell_type": "code",
   "execution_count": 18,
   "id": "ddffcce5-b823-4950-a35e-2ea00eda8de1",
   "metadata": {},
   "outputs": [],
   "source": [
    "from sklearn.naive_bayes import GaussianNB\n",
    "from sklearn.neighbors import KNeighborsClassifier\n",
    "from sklearn.ensemble import RandomForestClassifier\n",
    "from sklearn.tree import DecisionTreeClassifier"
   ]
  },
  {
   "cell_type": "code",
   "execution_count": 25,
   "id": "bb1171d7-f6d1-4d1b-aacf-8234eaf94b02",
   "metadata": {},
   "outputs": [],
   "source": [
    "models=[]\n",
    "models.append(('Naive Bayes', GaussianNB()))\n",
    "models.append(('RandomForest', RandomForestClassifier()))\n",
    "models.append(('Decision Tree', DecisionTreeClassifier()))\n",
    "models.append(('KNN', KNeighborsClassifier()))"
   ]
  },
  {
   "cell_type": "code",
   "execution_count": 20,
   "id": "d041c6b2-9f3f-4eb8-91f4-5437a8356324",
   "metadata": {},
   "outputs": [],
   "source": [
    "import warnings\n",
    "warnings.filterwarnings(action='once')"
   ]
  },
  {
   "cell_type": "code",
   "execution_count": 26,
   "id": "deebd401-9a18-4924-8aa6-5a3a77a5dca1",
   "metadata": {},
   "outputs": [
    {
     "name": "stdout",
     "output_type": "stream",
     "text": [
      "Naive Bayes\n",
      "[[10  6  0  0  0  0]\n",
      " [ 1 11  1  0  0  0]\n",
      " [ 0  3  3  0  0  0]\n",
      " [ 0  0  0  4  0  0]\n",
      " [ 0  0  0  0  2  0]\n",
      " [ 0  0  0  0  1  8]]\n",
      "\n",
      "\n",
      "0.76\n",
      "\n",
      "\n",
      "RandomForest\n",
      "[[11  0  0  0  0  0]\n",
      " [ 0 20  0  0  0  0]\n",
      " [ 0  0  4  0  0  0]\n",
      " [ 0  0  0  4  0  0]\n",
      " [ 0  0  0  0  3  0]\n",
      " [ 0  0  0  0  0  8]]\n",
      "\n",
      "\n",
      "1.0\n",
      "\n",
      "\n",
      "Decision Tree\n",
      "[[11  0  0  0  0  0]\n",
      " [ 0 20  0  0  0  0]\n",
      " [ 0  0  4  0  0  0]\n",
      " [ 0  0  0  3  0  0]\n",
      " [ 0  0  0  1  3  0]\n",
      " [ 0  0  0  0  0  8]]\n",
      "\n",
      "\n",
      "0.98\n",
      "\n",
      "\n",
      "KNN\n",
      "[[10  0  0  0  0  0]\n",
      " [ 1 20  0  0  0  0]\n",
      " [ 0  0  4  0  0  0]\n",
      " [ 0  0  0  3  0  0]\n",
      " [ 0  0  0  1  3  0]\n",
      " [ 0  0  0  0  0  8]]\n",
      "\n",
      "\n",
      "0.96\n",
      "\n",
      "\n"
     ]
    }
   ],
   "source": [
    "for name,model in models:\n",
    "    print(name)\n",
    "    model.fit(X_train,y_train)\n",
    "    predictions=model.predict(X_test)\n",
    "    from sklearn.metrics import confusion_matrix,accuracy_score\n",
    "    print(confusion_matrix(predictions,y_test))\n",
    "    print('\\n')\n",
    "    print(accuracy_score(predictions,y_test))\n",
    "    print('\\n')"
   ]
  },
  {
   "cell_type": "code",
   "execution_count": 22,
   "id": "99e93926-ab13-4236-a4cf-8f2b29e5765a",
   "metadata": {},
   "outputs": [],
   "source": [
    "# CONCLUSION:\n",
    "## Upon all algorithms **RandomForest** and **DecisionTree** gave almost 100% accuracy. \n",
    "## On cross validation the accuracy may vary between 98%-100%"
   ]
  },
  {
   "cell_type": "code",
   "execution_count": 23,
   "id": "86852c12-981c-4503-9791-17f66d82e89a",
   "metadata": {},
   "outputs": [],
   "source": [
    "res = pd.DataFrame(predictions)\n",
    "res.index = X_test.index \n",
    "res.columns = [\"Type of glass\"]\n",
    "res.to_csv(\"glass_prediction.csv\")"
   ]
  },
  {
   "cell_type": "code",
   "execution_count": null,
   "id": "ded23fd0-b533-455e-bb15-5d05aae9e8a6",
   "metadata": {},
   "outputs": [],
   "source": []
  }
 ],
 "metadata": {
  "kernelspec": {
   "display_name": "Python 3",
   "language": "python",
   "name": "python3"
  },
  "language_info": {
   "codemirror_mode": {
    "name": "ipython",
    "version": 3
   },
   "file_extension": ".py",
   "mimetype": "text/x-python",
   "name": "python",
   "nbconvert_exporter": "python",
   "pygments_lexer": "ipython3",
   "version": "3.7.0"
  }
 },
 "nbformat": 4,
 "nbformat_minor": 5
}
