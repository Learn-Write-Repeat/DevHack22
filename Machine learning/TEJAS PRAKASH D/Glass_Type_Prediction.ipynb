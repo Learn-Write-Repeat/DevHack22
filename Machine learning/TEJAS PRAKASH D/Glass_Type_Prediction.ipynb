{
  "nbformat": 4,
  "nbformat_minor": 0,
  "metadata": {
    "colab": {
      "name": "Glass_Type_Prediction.ipynb",
      "provenance": [],
      "collapsed_sections": [],
      "toc_visible": true
    },
    "kernelspec": {
      "name": "python3",
      "display_name": "Python 3"
    },
    "language_info": {
      "name": "python"
    }
  },
  "cells": [
    {
      "cell_type": "markdown",
      "source": [
        "Glass Prediction Analysis\n",
        "\n",
        "The study of classification of types of glass was motivated by criminological investigation. At the scene of the crime, the glass left can be used as evidence...if it is correctly identified!\n",
        "\n"
      ],
      "metadata": {
        "id": "OOXhntb9Mf49"
      }
    },
    {
      "cell_type": "code",
      "source": [
        "# import libraries\n",
        "import numpy as np\n",
        "import pandas as pd\n",
        "from sklearn.model_selection import train_test_split\n",
        "from sklearn.neighbors import KNeighborsClassifier\n",
        "from sklearn.metrics import classification_report, confusion_matrix"
      ],
      "metadata": {
        "id": "LIMgZ8CLMu8V"
      },
      "execution_count": null,
      "outputs": []
    },
    {
      "cell_type": "code",
      "source": [
        "dataset = 'Glass.csv'\n",
        "data = pd.read_csv(dataset, sep=',')"
      ],
      "metadata": {
        "id": "Z92qYxqEMr0g"
      },
      "execution_count": null,
      "outputs": []
    },
    {
      "cell_type": "code",
      "source": [
        "y = data.Type\n",
        "x = data.drop({'ID','Type'}, axis=1)\n",
        "x_train, x_test, y_train, y_test = train_test_split(x, y, test_size=0.2)"
      ],
      "metadata": {
        "id": "bTSEv10GNUnc"
      },
      "execution_count": null,
      "outputs": []
    },
    {
      "cell_type": "code",
      "source": [
        "classification = KNeighborsClassifier(7)\n",
        "classification.fit(x_train, y_train)"
      ],
      "metadata": {
        "colab": {
          "base_uri": "https://localhost:8080/"
        },
        "id": "JESEIBcpNZnt",
        "outputId": "7d236ecd-821c-460f-e647-4a95726b1030"
      },
      "execution_count": null,
      "outputs": [
        {
          "output_type": "execute_result",
          "data": {
            "text/plain": [
              "KNeighborsClassifier(n_neighbors=7)"
            ]
          },
          "metadata": {},
          "execution_count": 4
        }
      ]
    },
    {
      "cell_type": "code",
      "source": [
        "predictions = classification.predict(x_test)"
      ],
      "metadata": {
        "id": "GDUOwT-VNgBK"
      },
      "execution_count": null,
      "outputs": []
    },
    {
      "cell_type": "code",
      "source": [
        "data.describe()"
      ],
      "metadata": {
        "colab": {
          "base_uri": "https://localhost:8080/",
          "height": 300
        },
        "id": "pk1LmeZYSYax",
        "outputId": "07df50b4-bef9-4507-f742-0d3dfca8af21"
      },
      "execution_count": null,
      "outputs": [
        {
          "output_type": "execute_result",
          "data": {
            "text/html": [
              "\n",
              "  <div id=\"df-a2686742-d90a-4513-8b1b-a39a8626c890\">\n",
              "    <div class=\"colab-df-container\">\n",
              "      <div>\n",
              "<style scoped>\n",
              "    .dataframe tbody tr th:only-of-type {\n",
              "        vertical-align: middle;\n",
              "    }\n",
              "\n",
              "    .dataframe tbody tr th {\n",
              "        vertical-align: top;\n",
              "    }\n",
              "\n",
              "    .dataframe thead th {\n",
              "        text-align: right;\n",
              "    }\n",
              "</style>\n",
              "<table border=\"1\" class=\"dataframe\">\n",
              "  <thead>\n",
              "    <tr style=\"text-align: right;\">\n",
              "      <th></th>\n",
              "      <th>ID</th>\n",
              "      <th>RI</th>\n",
              "      <th>Na</th>\n",
              "      <th>Mg</th>\n",
              "      <th>Al</th>\n",
              "      <th>Si</th>\n",
              "      <th>K</th>\n",
              "      <th>Ca</th>\n",
              "      <th>Ba</th>\n",
              "      <th>Fe</th>\n",
              "      <th>Type</th>\n",
              "    </tr>\n",
              "  </thead>\n",
              "  <tbody>\n",
              "    <tr>\n",
              "      <th>count</th>\n",
              "      <td>214.000000</td>\n",
              "      <td>214.000000</td>\n",
              "      <td>214.000000</td>\n",
              "      <td>214.000000</td>\n",
              "      <td>214.000000</td>\n",
              "      <td>214.000000</td>\n",
              "      <td>214.000000</td>\n",
              "      <td>214.000000</td>\n",
              "      <td>214.000000</td>\n",
              "      <td>214.000000</td>\n",
              "      <td>214.000000</td>\n",
              "    </tr>\n",
              "    <tr>\n",
              "      <th>mean</th>\n",
              "      <td>107.500000</td>\n",
              "      <td>1.518365</td>\n",
              "      <td>13.407850</td>\n",
              "      <td>2.684533</td>\n",
              "      <td>1.444907</td>\n",
              "      <td>72.650935</td>\n",
              "      <td>0.497056</td>\n",
              "      <td>8.956963</td>\n",
              "      <td>0.175047</td>\n",
              "      <td>0.057009</td>\n",
              "      <td>2.780374</td>\n",
              "    </tr>\n",
              "    <tr>\n",
              "      <th>std</th>\n",
              "      <td>61.920648</td>\n",
              "      <td>0.003037</td>\n",
              "      <td>0.816604</td>\n",
              "      <td>1.442408</td>\n",
              "      <td>0.499270</td>\n",
              "      <td>0.774546</td>\n",
              "      <td>0.652192</td>\n",
              "      <td>1.423153</td>\n",
              "      <td>0.497219</td>\n",
              "      <td>0.097439</td>\n",
              "      <td>2.103739</td>\n",
              "    </tr>\n",
              "    <tr>\n",
              "      <th>min</th>\n",
              "      <td>1.000000</td>\n",
              "      <td>1.511150</td>\n",
              "      <td>10.730000</td>\n",
              "      <td>0.000000</td>\n",
              "      <td>0.290000</td>\n",
              "      <td>69.810000</td>\n",
              "      <td>0.000000</td>\n",
              "      <td>5.430000</td>\n",
              "      <td>0.000000</td>\n",
              "      <td>0.000000</td>\n",
              "      <td>1.000000</td>\n",
              "    </tr>\n",
              "    <tr>\n",
              "      <th>25%</th>\n",
              "      <td>54.250000</td>\n",
              "      <td>1.516523</td>\n",
              "      <td>12.907500</td>\n",
              "      <td>2.115000</td>\n",
              "      <td>1.190000</td>\n",
              "      <td>72.280000</td>\n",
              "      <td>0.122500</td>\n",
              "      <td>8.240000</td>\n",
              "      <td>0.000000</td>\n",
              "      <td>0.000000</td>\n",
              "      <td>1.000000</td>\n",
              "    </tr>\n",
              "    <tr>\n",
              "      <th>50%</th>\n",
              "      <td>107.500000</td>\n",
              "      <td>1.517680</td>\n",
              "      <td>13.300000</td>\n",
              "      <td>3.480000</td>\n",
              "      <td>1.360000</td>\n",
              "      <td>72.790000</td>\n",
              "      <td>0.555000</td>\n",
              "      <td>8.600000</td>\n",
              "      <td>0.000000</td>\n",
              "      <td>0.000000</td>\n",
              "      <td>2.000000</td>\n",
              "    </tr>\n",
              "    <tr>\n",
              "      <th>75%</th>\n",
              "      <td>160.750000</td>\n",
              "      <td>1.519157</td>\n",
              "      <td>13.825000</td>\n",
              "      <td>3.600000</td>\n",
              "      <td>1.630000</td>\n",
              "      <td>73.087500</td>\n",
              "      <td>0.610000</td>\n",
              "      <td>9.172500</td>\n",
              "      <td>0.000000</td>\n",
              "      <td>0.100000</td>\n",
              "      <td>3.000000</td>\n",
              "    </tr>\n",
              "    <tr>\n",
              "      <th>max</th>\n",
              "      <td>214.000000</td>\n",
              "      <td>1.533930</td>\n",
              "      <td>17.380000</td>\n",
              "      <td>4.490000</td>\n",
              "      <td>3.500000</td>\n",
              "      <td>75.410000</td>\n",
              "      <td>6.210000</td>\n",
              "      <td>16.190000</td>\n",
              "      <td>3.150000</td>\n",
              "      <td>0.510000</td>\n",
              "      <td>7.000000</td>\n",
              "    </tr>\n",
              "  </tbody>\n",
              "</table>\n",
              "</div>\n",
              "      <button class=\"colab-df-convert\" onclick=\"convertToInteractive('df-a2686742-d90a-4513-8b1b-a39a8626c890')\"\n",
              "              title=\"Convert this dataframe to an interactive table.\"\n",
              "              style=\"display:none;\">\n",
              "        \n",
              "  <svg xmlns=\"http://www.w3.org/2000/svg\" height=\"24px\"viewBox=\"0 0 24 24\"\n",
              "       width=\"24px\">\n",
              "    <path d=\"M0 0h24v24H0V0z\" fill=\"none\"/>\n",
              "    <path d=\"M18.56 5.44l.94 2.06.94-2.06 2.06-.94-2.06-.94-.94-2.06-.94 2.06-2.06.94zm-11 1L8.5 8.5l.94-2.06 2.06-.94-2.06-.94L8.5 2.5l-.94 2.06-2.06.94zm10 10l.94 2.06.94-2.06 2.06-.94-2.06-.94-.94-2.06-.94 2.06-2.06.94z\"/><path d=\"M17.41 7.96l-1.37-1.37c-.4-.4-.92-.59-1.43-.59-.52 0-1.04.2-1.43.59L10.3 9.45l-7.72 7.72c-.78.78-.78 2.05 0 2.83L4 21.41c.39.39.9.59 1.41.59.51 0 1.02-.2 1.41-.59l7.78-7.78 2.81-2.81c.8-.78.8-2.07 0-2.86zM5.41 20L4 18.59l7.72-7.72 1.47 1.35L5.41 20z\"/>\n",
              "  </svg>\n",
              "      </button>\n",
              "      \n",
              "  <style>\n",
              "    .colab-df-container {\n",
              "      display:flex;\n",
              "      flex-wrap:wrap;\n",
              "      gap: 12px;\n",
              "    }\n",
              "\n",
              "    .colab-df-convert {\n",
              "      background-color: #E8F0FE;\n",
              "      border: none;\n",
              "      border-radius: 50%;\n",
              "      cursor: pointer;\n",
              "      display: none;\n",
              "      fill: #1967D2;\n",
              "      height: 32px;\n",
              "      padding: 0 0 0 0;\n",
              "      width: 32px;\n",
              "    }\n",
              "\n",
              "    .colab-df-convert:hover {\n",
              "      background-color: #E2EBFA;\n",
              "      box-shadow: 0px 1px 2px rgba(60, 64, 67, 0.3), 0px 1px 3px 1px rgba(60, 64, 67, 0.15);\n",
              "      fill: #174EA6;\n",
              "    }\n",
              "\n",
              "    [theme=dark] .colab-df-convert {\n",
              "      background-color: #3B4455;\n",
              "      fill: #D2E3FC;\n",
              "    }\n",
              "\n",
              "    [theme=dark] .colab-df-convert:hover {\n",
              "      background-color: #434B5C;\n",
              "      box-shadow: 0px 1px 3px 1px rgba(0, 0, 0, 0.15);\n",
              "      filter: drop-shadow(0px 1px 2px rgba(0, 0, 0, 0.3));\n",
              "      fill: #FFFFFF;\n",
              "    }\n",
              "  </style>\n",
              "\n",
              "      <script>\n",
              "        const buttonEl =\n",
              "          document.querySelector('#df-a2686742-d90a-4513-8b1b-a39a8626c890 button.colab-df-convert');\n",
              "        buttonEl.style.display =\n",
              "          google.colab.kernel.accessAllowed ? 'block' : 'none';\n",
              "\n",
              "        async function convertToInteractive(key) {\n",
              "          const element = document.querySelector('#df-a2686742-d90a-4513-8b1b-a39a8626c890');\n",
              "          const dataTable =\n",
              "            await google.colab.kernel.invokeFunction('convertToInteractive',\n",
              "                                                     [key], {});\n",
              "          if (!dataTable) return;\n",
              "\n",
              "          const docLinkHtml = 'Like what you see? Visit the ' +\n",
              "            '<a target=\"_blank\" href=https://colab.research.google.com/notebooks/data_table.ipynb>data table notebook</a>'\n",
              "            + ' to learn more about interactive tables.';\n",
              "          element.innerHTML = '';\n",
              "          dataTable['output_type'] = 'display_data';\n",
              "          await google.colab.output.renderOutput(dataTable, element);\n",
              "          const docLink = document.createElement('div');\n",
              "          docLink.innerHTML = docLinkHtml;\n",
              "          element.appendChild(docLink);\n",
              "        }\n",
              "      </script>\n",
              "    </div>\n",
              "  </div>\n",
              "  "
            ],
            "text/plain": [
              "               ID          RI          Na  ...          Ba          Fe        Type\n",
              "count  214.000000  214.000000  214.000000  ...  214.000000  214.000000  214.000000\n",
              "mean   107.500000    1.518365   13.407850  ...    0.175047    0.057009    2.780374\n",
              "std     61.920648    0.003037    0.816604  ...    0.497219    0.097439    2.103739\n",
              "min      1.000000    1.511150   10.730000  ...    0.000000    0.000000    1.000000\n",
              "25%     54.250000    1.516523   12.907500  ...    0.000000    0.000000    1.000000\n",
              "50%    107.500000    1.517680   13.300000  ...    0.000000    0.000000    2.000000\n",
              "75%    160.750000    1.519157   13.825000  ...    0.000000    0.100000    3.000000\n",
              "max    214.000000    1.533930   17.380000  ...    3.150000    0.510000    7.000000\n",
              "\n",
              "[8 rows x 11 columns]"
            ]
          },
          "metadata": {},
          "execution_count": 13
        }
      ]
    },
    {
      "cell_type": "code",
      "source": [
        "print(confusion_matrix(y_test, predictions))"
      ],
      "metadata": {
        "colab": {
          "base_uri": "https://localhost:8080/"
        },
        "id": "pMrcxjlCNky0",
        "outputId": "d32932d6-168c-4847-96fe-9b359b09ddb2"
      },
      "execution_count": null,
      "outputs": [
        {
          "output_type": "stream",
          "name": "stdout",
          "text": [
            "[[10  4  0  0  0  0]\n",
            " [ 4  8  0  0  0  0]\n",
            " [ 6  0  0  0  0  0]\n",
            " [ 0  1  0  2  0  0]\n",
            " [ 0  0  0  0  1  0]\n",
            " [ 1  2  0  0  0  4]]\n"
          ]
        }
      ]
    },
    {
      "cell_type": "code",
      "source": [
        "print(classification_report(y_test, predictions))"
      ],
      "metadata": {
        "colab": {
          "base_uri": "https://localhost:8080/"
        },
        "id": "Zf82LYIXNqh1",
        "outputId": "de9b855c-c8a6-417e-89cf-c5f15cb8baf7"
      },
      "execution_count": null,
      "outputs": [
        {
          "output_type": "stream",
          "name": "stdout",
          "text": [
            "              precision    recall  f1-score   support\n",
            "\n",
            "           1       0.48      0.71      0.57        14\n",
            "           2       0.53      0.67      0.59        12\n",
            "           3       0.00      0.00      0.00         6\n",
            "           5       1.00      0.67      0.80         3\n",
            "           6       1.00      1.00      1.00         1\n",
            "           7       1.00      0.57      0.73         7\n",
            "\n",
            "    accuracy                           0.58        43\n",
            "   macro avg       0.67      0.60      0.62        43\n",
            "weighted avg       0.56      0.58      0.55        43\n",
            "\n"
          ]
        },
        {
          "output_type": "stream",
          "name": "stderr",
          "text": [
            "/usr/local/lib/python3.7/dist-packages/sklearn/metrics/_classification.py:1318: UndefinedMetricWarning: Precision and F-score are ill-defined and being set to 0.0 in labels with no predicted samples. Use `zero_division` parameter to control this behavior.\n",
            "  _warn_prf(average, modifier, msg_start, len(result))\n",
            "/usr/local/lib/python3.7/dist-packages/sklearn/metrics/_classification.py:1318: UndefinedMetricWarning: Precision and F-score are ill-defined and being set to 0.0 in labels with no predicted samples. Use `zero_division` parameter to control this behavior.\n",
            "  _warn_prf(average, modifier, msg_start, len(result))\n",
            "/usr/local/lib/python3.7/dist-packages/sklearn/metrics/_classification.py:1318: UndefinedMetricWarning: Precision and F-score are ill-defined and being set to 0.0 in labels with no predicted samples. Use `zero_division` parameter to control this behavior.\n",
            "  _warn_prf(average, modifier, msg_start, len(result))\n"
          ]
        }
      ]
    },
    {
      "cell_type": "code",
      "source": [
        "data.hist(figsize= (10,10))"
      ],
      "metadata": {
        "colab": {
          "base_uri": "https://localhost:8080/",
          "height": 833
        },
        "id": "7Zuf5_kGR6MI",
        "outputId": "83a29eeb-6a23-4317-badc-1b8554b82ad4"
      },
      "execution_count": null,
      "outputs": [
        {
          "output_type": "execute_result",
          "data": {
            "text/plain": [
              "array([[<matplotlib.axes._subplots.AxesSubplot object at 0x7f936c84b610>,\n",
              "        <matplotlib.axes._subplots.AxesSubplot object at 0x7f936bca20d0>,\n",
              "        <matplotlib.axes._subplots.AxesSubplot object at 0x7f936bcac710>],\n",
              "       [<matplotlib.axes._subplots.AxesSubplot object at 0x7f936bc94190>,\n",
              "        <matplotlib.axes._subplots.AxesSubplot object at 0x7f936bc48790>,\n",
              "        <matplotlib.axes._subplots.AxesSubplot object at 0x7f936bbffd90>],\n",
              "       [<matplotlib.axes._subplots.AxesSubplot object at 0x7f936bbc23d0>,\n",
              "        <matplotlib.axes._subplots.AxesSubplot object at 0x7f936bb759d0>,\n",
              "        <matplotlib.axes._subplots.AxesSubplot object at 0x7f936bb7fe90>],\n",
              "       [<matplotlib.axes._subplots.AxesSubplot object at 0x7f936bb425d0>,\n",
              "        <matplotlib.axes._subplots.AxesSubplot object at 0x7f936baa4c10>,\n",
              "        <matplotlib.axes._subplots.AxesSubplot object at 0x7f936ba66250>]],\n",
              "      dtype=object)"
            ]
          },
          "metadata": {},
          "execution_count": 12
        },
        {
          "output_type": "display_data",
          "data": {
            "image/png": "[encoded data removed]",
            "text/plain": [
              "<Figure size 720x720 with 12 Axes>"
            ]
          },
          "metadata": {
            "needs_background": "light"
          }
        }
      ]
    }
  ]
}